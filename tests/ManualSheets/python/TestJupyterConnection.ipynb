{
 "cells": [
  {
   "cell_type": "code",
   "execution_count": 1,
   "metadata": {},
   "outputs": [
    {
     "name": "stdout",
     "output_type": "stream",
     "text": [
      "{\n",
      "  \"shell_port\": 54104,\n",
      "  \"iopub_port\": 54105,\n",
      "  \"stdin_port\": 54106,\n",
      "  \"control_port\": 54108,\n",
      "  \"hb_port\": 54107,\n",
      "  \"ip\": \"127.0.0.1\",\n",
      "  \"key\": \"427ea3a4-84e2dbe69b392c72ea7f25d4\",\n",
      "  \"transport\": \"tcp\",\n",
      "  \"signature_scheme\": \"hmac-sha256\",\n",
      "  \"kernel_name\": \"\"\n",
      "}\n",
      "\n",
      "Paste the above JSON into a file, and connect with:\n",
      "    $> jupyter <app> --existing <file>\n",
      "or, if you are local, you can connect with just:\n",
      "    $> jupyter <app> --existing kernel-45cd273f-f93c-435d-ae47-29ae997b41ff.json\n",
      "or even just:\n",
      "    $> jupyter <app> --existing\n",
      "if this is the most recent Jupyter kernel you have started.\n"
     ]
    }
   ],
   "source": [
    "#%load_ext autoreload\n",
    "#%autoreload 2\n",
    "%connect_info"
   ]
  },
  {
   "cell_type": "code",
   "execution_count": 50,
   "metadata": {},
   "outputs": [
    {
     "data": {
      "xloil/data": "ccopy_reg\n_reconstructor\np0\n(cxloil.xloil\nFuncDescription\np1\nc__builtin__\nobject\np2\nNtp3\nRp4\n(dp5\nV_func\np6\nVjptest\np7\nsVargs\np8\n(lp9\ng0\n(cxloil.xloil\nArg\np10\ng2\nNtp11\nRp12\n(dp13\nVtypeof\np14\nNsVname\np15\nVx\np16\nsVhelp\np17\nV\np18\nsVdefault\np19\ncinspect\n_empty\np20\nsVis_keywords\np21\nI00\nsbasVreturn_type\np22\ng20\nsg15\ng7\nsg17\nNsVis_async\np23\nI00\nsVrtd\np24\nNsVmacro\np25\nI00\nsVthreaded\np26\nI00\nsVvolatile\np27\nI00\nsVlocal\np28\nNsb."
     },
     "metadata": {
      "type": "FuncRegister"
     },
     "output_type": "display_data"
    }
   ],
   "source": [
    "@xloil.func\n",
    "def jptest(x):\n",
    "    return f\"Jupyter says {x}\""
   ]
  },
  {
   "cell_type": "code",
   "execution_count": 9,
   "metadata": {},
   "outputs": [],
   "source": [
    "def func1(x):\n",
    "    return x\n",
    "def func2(x):\n",
    "    return [1,2,3,4,5]"
   ]
  },
  {
   "cell_type": "code",
   "execution_count": 10,
   "metadata": {},
   "outputs": [],
   "source": [
    "import numpy as np\n",
    "watch_var = np.array([1, 2, 3, 5])"
   ]
  },
  {
   "cell_type": "code",
   "execution_count": null,
   "metadata": {},
   "outputs": [],
   "source": [
    "_xloil_vars._values"
   ]
  }
 ],
 "metadata": {
  "kernelspec": {
   "display_name": "Python 3",
   "language": "python",
   "name": "python3"
  },
  "language_info": {
   "codemirror_mode": {
    "name": "ipython",
    "version": 3
   },
   "file_extension": ".py",
   "mimetype": "text/x-python",
   "name": "python",
   "nbconvert_exporter": "python",
   "pygments_lexer": "ipython3",
   "version": "3.7.9"
  }
 },
 "nbformat": 4,
 "nbformat_minor": 2
}
